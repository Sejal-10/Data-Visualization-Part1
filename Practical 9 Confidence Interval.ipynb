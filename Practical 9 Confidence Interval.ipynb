{
 "cells": [
  {
   "cell_type": "code",
   "execution_count": 1,
   "id": "76fcb553",
   "metadata": {},
   "outputs": [],
   "source": [
    "import numpy as np # linear algebra\n",
    "import pandas as pd # data processing , CSV file\n",
    "import matplotlib.pyplot as plt\n",
    "from scipy.stats import sem, t\n",
    "import seaborn as sns\n",
    "import scipy.stats as stats\n",
    "import statsmodels.api as sm\n",
    "\n",
    "import os"
   ]
  },
  {
   "cell_type": "code",
   "execution_count": 2,
   "id": "bc4d12e5",
   "metadata": {},
   "outputs": [
    {
     "data": {
      "text/html": [
       "<div>\n",
       "<style scoped>\n",
       "    .dataframe tbody tr th:only-of-type {\n",
       "        vertical-align: middle;\n",
       "    }\n",
       "\n",
       "    .dataframe tbody tr th {\n",
       "        vertical-align: top;\n",
       "    }\n",
       "\n",
       "    .dataframe thead th {\n",
       "        text-align: right;\n",
       "    }\n",
       "</style>\n",
       "<table border=\"1\" class=\"dataframe\">\n",
       "  <thead>\n",
       "    <tr style=\"text-align: right;\">\n",
       "      <th></th>\n",
       "      <th>x</th>\n",
       "    </tr>\n",
       "  </thead>\n",
       "  <tbody>\n",
       "    <tr>\n",
       "      <th>0</th>\n",
       "      <td>67000</td>\n",
       "    </tr>\n",
       "    <tr>\n",
       "      <th>1</th>\n",
       "      <td>52000</td>\n",
       "    </tr>\n",
       "    <tr>\n",
       "      <th>2</th>\n",
       "      <td>100000</td>\n",
       "    </tr>\n",
       "    <tr>\n",
       "      <th>3</th>\n",
       "      <td>78762</td>\n",
       "    </tr>\n",
       "    <tr>\n",
       "      <th>4</th>\n",
       "      <td>37041</td>\n",
       "    </tr>\n",
       "    <tr>\n",
       "      <th>...</th>\n",
       "      <td>...</td>\n",
       "    </tr>\n",
       "    <tr>\n",
       "      <th>49995</th>\n",
       "      <td>40000</td>\n",
       "    </tr>\n",
       "    <tr>\n",
       "      <th>49996</th>\n",
       "      <td>54000</td>\n",
       "    </tr>\n",
       "    <tr>\n",
       "      <th>49997</th>\n",
       "      <td>50000</td>\n",
       "    </tr>\n",
       "    <tr>\n",
       "      <th>49998</th>\n",
       "      <td>82000</td>\n",
       "    </tr>\n",
       "    <tr>\n",
       "      <th>49999</th>\n",
       "      <td>70000</td>\n",
       "    </tr>\n",
       "  </tbody>\n",
       "</table>\n",
       "<p>50000 rows × 1 columns</p>\n",
       "</div>"
      ],
      "text/plain": [
       "            x\n",
       "0       67000\n",
       "1       52000\n",
       "2      100000\n",
       "3       78762\n",
       "4       37041\n",
       "...       ...\n",
       "49995   40000\n",
       "49996   54000\n",
       "49997   50000\n",
       "49998   82000\n",
       "49999   70000\n",
       "\n",
       "[50000 rows x 1 columns]"
      ]
     },
     "execution_count": 2,
     "metadata": {},
     "output_type": "execute_result"
    }
   ],
   "source": [
    "df = pd.read_csv(\"C:/Users/Pooja/Downloads/loans_income.csv\")\n",
    "df"
   ]
  },
  {
   "cell_type": "markdown",
   "id": "4ab04903",
   "metadata": {},
   "source": [
    "# The Bootstrap\n",
    "Definition of Bootstrap\n",
    "\n",
    "One easy and effective way to estimate the sampling distributions of a statistic or of model parameters, is to draw additional samples, with replacement, from the sample itself and recalculate the stastcic or model for each resample. This procedure is called the Bootstrap.\n",
    "\n",
    "Why do we use the Bootstrap The bootstrap is used for sample size determination; experiment with different values for n to see how the sampling distribution is affected. The algorithm for A Bootstrap\n",
    "\n",
    "Draw a sample value, record, replace it. Repeat n times. Record the mean of the n resampled values. Use the R result to:\n",
    "\n",
    "Calculate their standard deviation.\n",
    "\n",
    "Produce a histogram or a boxplot.\n",
    "\n",
    "Find a confidence interval."
   ]
  },
  {
   "cell_type": "code",
   "execution_count": 3,
   "id": "e2197b5b",
   "metadata": {},
   "outputs": [
    {
     "data": {
      "text/plain": [
       "array([[ 67000],\n",
       "       [ 52000],\n",
       "       [100000],\n",
       "       [ 78762],\n",
       "       [ 37041]], dtype=int64)"
      ]
     },
     "execution_count": 3,
     "metadata": {},
     "output_type": "execute_result"
    }
   ],
   "source": [
    "loans_income = np.array(pd.read_csv(\"C:/Users/Pooja/Downloads/loans_income.csv\"))\n",
    "loans_income[:5]"
   ]
  },
  {
   "cell_type": "code",
   "execution_count": 4,
   "id": "d8eb877e",
   "metadata": {},
   "outputs": [],
   "source": [
    "# Making a flat list from list of lists\n",
    "loans_income = np.array([item for sublist in loans_income for item in sublist])"
   ]
  },
  {
   "cell_type": "code",
   "execution_count": 5,
   "id": "30ea03e2",
   "metadata": {},
   "outputs": [
    {
     "data": {
      "text/plain": [
       "[68954.686, 68926.331, 68727.063, 68886.034, 68718.952]"
      ]
     },
     "execution_count": 5,
     "metadata": {},
     "output_type": "execute_result"
    }
   ],
   "source": [
    "def bootstrap(l,R):\n",
    "    n = len(loans_income)\n",
    "    # Number of Bootstrap Samples\n",
    "    means_of_boot_samples =[]\n",
    "    for reps in range(R):\n",
    "        # Steps 1,2\n",
    "        boot_sample = np.random.choice(loans_income, size=n)\n",
    "        #Step 3\n",
    "        means_of_boot_samples.append(round(np.mean(boot_sample),3))\n",
    "    return means_of_boot_samples\n",
    "    \n",
    "bootstrap(loans_income, 5)"
   ]
  },
  {
   "cell_type": "markdown",
   "id": "d9754355",
   "metadata": {},
   "source": [
    "# Now as we have a means of bootstrap samples we can estimate:\n",
    "\n",
    "A their standard deviation (this estimate sample mean standard deviation)"
   ]
  },
  {
   "cell_type": "code",
   "execution_count": 6,
   "id": "cc834df9",
   "metadata": {},
   "outputs": [
    {
     "data": {
      "text/plain": [
       "147.71591052103506"
      ]
     },
     "execution_count": 6,
     "metadata": {},
     "output_type": "execute_result"
    }
   ],
   "source": [
    "np.std(bootstrap(loans_income,100))"
   ]
  },
  {
   "cell_type": "code",
   "execution_count": null,
   "id": "04027059",
   "metadata": {},
   "outputs": [],
   "source": [
    "plt.figure(dpi = 200)\n",
    "\n",
    "plt.subplot(221)\n",
    "plt.title(\"R = 10000\")\n",
    "plt.hist(bootstrap(loans_income, 10000), edgecolor = 'k')\n",
    "\n",
    "plt.subplot(222)\n",
    "plt.title(\"R = 1000\")\n",
    "plt.hist(bootstrap(loans_income, 1000), edgecolor = 'k')\n",
    "\n",
    "plt.subplot(223)\n",
    "plt.title(\"R = 100\")\n",
    "plt.hist(bootstrap(loans_income, 100), edgecolor = 'k')\n",
    "\n",
    "plt.subplot(224)\n",
    "plt.title(\"R = 10\")\n",
    "plt.hist(bootstrap(loans_income, 10), edgecolor = 'k')\n",
    "\n",
    "plt.tight_layout()"
   ]
  },
  {
   "cell_type": "markdown",
   "id": "67dd5d6a",
   "metadata": {},
   "source": [
    "# As we can see distribution of 10000 means is more compact and bell-shaped than the distribution with smaller amount of means. This phenomenon is termed as central limit theorem.\n",
    "\n",
    "Find a confidence Interval"
   ]
  },
  {
   "cell_type": "code",
   "execution_count": 8,
   "id": "00de9307",
   "metadata": {},
   "outputs": [
    {
     "name": "stdout",
     "output_type": "stream",
     "text": [
      "Lower Limit:  68479.403775\n",
      "Upper Limit:  69000.03904999999\n"
     ]
    }
   ],
   "source": [
    "data = bootstrap(loans_income, 1000)\n",
    "lower_lim , upper_lim = np.percentile(data , 2.5), np.percentile(data,95)\n",
    "print(\"Lower Limit: \",lower_lim)\n",
    "print(\"Upper Limit: \",upper_lim)"
   ]
  },
  {
   "cell_type": "code",
   "execution_count": null,
   "id": "8c0c7435",
   "metadata": {},
   "outputs": [],
   "source": [
    "plt.figure(dpi = 200)\n",
    "plt.title('95% Confidence Interval of loan applicants based on a sample of 1000 means')\n",
    "\n",
    "sns.distplot(bootstrap(loans_income, 1000), hist = True, kde = True,\n",
    "             color = 'darkblue', bins = 50,\n",
    "             hist_kws={'edgecolor':'black'},\n",
    "             kde_kws={'linewidth':2})\n",
    "\n",
    "plt.axvline(x=lower_lim,color='red')\n",
    "plt.axvline(x=upper_lim,color='red')"
   ]
  },
  {
   "cell_type": "code",
   "execution_count": null,
   "id": "0b680d20",
   "metadata": {},
   "outputs": [],
   "source": []
  }
 ],
 "metadata": {
  "kernelspec": {
   "display_name": "Python 3",
   "language": "python",
   "name": "python3"
  },
  "language_info": {
   "codemirror_mode": {
    "name": "ipython",
    "version": 3
   },
   "file_extension": ".py",
   "mimetype": "text/x-python",
   "name": "python",
   "nbconvert_exporter": "python",
   "pygments_lexer": "ipython3",
   "version": "3.8.8"
  }
 },
 "nbformat": 4,
 "nbformat_minor": 5
}
